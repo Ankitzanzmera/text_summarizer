{
 "cells": [
  {
   "cell_type": "code",
   "execution_count": 1,
   "metadata": {},
   "outputs": [
    {
     "data": {
      "text/plain": [
       "'f:\\\\ml_projects\\\\text_summarizer\\\\notbooks'"
      ]
     },
     "execution_count": 1,
     "metadata": {},
     "output_type": "execute_result"
    }
   ],
   "source": [
    "import os\n",
    "%pwd"
   ]
  },
  {
   "cell_type": "code",
   "execution_count": 2,
   "metadata": {},
   "outputs": [
    {
     "data": {
      "text/plain": [
       "'f:\\\\ml_projects\\\\text_summarizer'"
      ]
     },
     "execution_count": 2,
     "metadata": {},
     "output_type": "execute_result"
    }
   ],
   "source": [
    "os.chdir(\"../\")\n",
    "%pwd"
   ]
  },
  {
   "cell_type": "code",
   "execution_count": 3,
   "metadata": {},
   "outputs": [],
   "source": [
    "from dataclasses import dataclass\n",
    "from pathlib import Path\n",
    "\n",
    "@dataclass(frozen=True)\n",
    "class DataValidationConfig:\n",
    "    root_dir: Path\n",
    "    data_validation_status_file: str\n",
    "    data_validation_required_file: list\n",
    "    unzip_dir:Path"
   ]
  },
  {
   "cell_type": "code",
   "execution_count": 4,
   "metadata": {},
   "outputs": [],
   "source": [
    "from text_summarizer.constants import *\n",
    "from text_summarizer.utils.common import read_yaml,create_directories\n",
    "\n",
    "class ConfigurationManager():\n",
    "    def __init__(self,config_filepath = CONFIG_FILEPATH, params_filepath = PARAMS_FILEPATH):\n",
    "        self.config = read_yaml(config_filepath)\n",
    "        self.params = read_yaml(params_filepath)\n",
    "        create_directories([self.config.artifacts_root])\n",
    "\n",
    "    def get_data_validation_config(self) -> DataValidationConfig:\n",
    "        temp_config = self.config.data_validation\n",
    "        create_directories([temp_config.root_dir])\n",
    "\n",
    "        data_validation_config = DataValidationConfig(\n",
    "            root_dir= Path(temp_config.root_dir),\n",
    "            data_validation_status_file = temp_config.data_validation_status_file,\n",
    "            data_validation_required_file = temp_config.data_validation_required_file,\n",
    "            unzip_dir = temp_config.unzip_dir\n",
    "        )\n",
    "\n",
    "        return data_validation_config"
   ]
  },
  {
   "cell_type": "code",
   "execution_count": 5,
   "metadata": {},
   "outputs": [],
   "source": [
    "import os,sys\n",
    "from text_summarizer.utils.logger import logger\n",
    "from text_summarizer.utils.exception import CustomException"
   ]
  },
  {
   "cell_type": "code",
   "execution_count": 8,
   "metadata": {},
   "outputs": [],
   "source": [
    "class DataValidation:\n",
    "    def __init__(self,config:DataValidationConfig) -> None:\n",
    "        self.config = config\n",
    "    \n",
    "    def is_valid(self):\n",
    "        validation_status = None\n",
    "        all_required_files = self.config.data_validation_required_file\n",
    "        file_that_exists = os.listdir(self.config.unzip_dir)\n",
    "        try:\n",
    "            for file in all_required_files:\n",
    "                if file not in file_that_exists:\n",
    "                    validation_status = False\n",
    "                    with open(self.config.data_validation_status_file,'w') as file_obj:\n",
    "                        file_obj.write(f'Validation Status = {validation_status}')\n",
    "                        logger.info(f\"Validation Status is {validation_status}\")\n",
    "\n",
    "                        raise SystemExit\n",
    "                else:\n",
    "                    validation_status = True\n",
    "                    with open(self.config.data_validation_status_file,'w') as file_obj:\n",
    "                        file_obj.write(f'Validation Status = {validation_status}')\n",
    "            logger.info(f\"Validation Status is {validation_status}\")\n",
    "        except Exception as e:\n",
    "            raise CustomException(e,sys)"
   ]
  },
  {
   "cell_type": "code",
   "execution_count": 9,
   "metadata": {},
   "outputs": [
    {
     "name": "stdout",
     "output_type": "stream",
     "text": [
      " [ 2024-01-09 11:50:55,261 ] - 25 - common - artifacts Directory Created Successfully\n",
      " [ 2024-01-09 11:50:55,264 ] - 25 - common - artifacts/data_validation Directory Created Successfully\n",
      "['validation', 'train', 'test', 'dataset_dict.json']\n",
      "['dataset_dict.json', 'test', 'train', 'validation']\n",
      " [ 2024-01-09 11:50:55,270 ] - 24 - 420452909 - Validation Status is True\n"
     ]
    }
   ],
   "source": [
    "try:\n",
    "    config = ConfigurationManager()\n",
    "    data_validation_config = config.get_data_validation_config()\n",
    "    data_validation = DataValidation(data_validation_config)\n",
    "    data_validation.is_valid()\n",
    "except Exception as e:\n",
    "    raise CustomException(e,sys)"
   ]
  },
  {
   "cell_type": "code",
   "execution_count": null,
   "metadata": {},
   "outputs": [],
   "source": []
  }
 ],
 "metadata": {
  "kernelspec": {
   "display_name": "Python 3",
   "language": "python",
   "name": "python3"
  },
  "language_info": {
   "codemirror_mode": {
    "name": "ipython",
    "version": 3
   },
   "file_extension": ".py",
   "mimetype": "text/x-python",
   "name": "python",
   "nbconvert_exporter": "python",
   "pygments_lexer": "ipython3",
   "version": "3.8.18"
  }
 },
 "nbformat": 4,
 "nbformat_minor": 2
}
