{
 "cells": [
  {
   "cell_type": "code",
   "execution_count": 1,
   "metadata": {},
   "outputs": [
    {
     "data": {
      "text/plain": [
       "'f:\\\\ml_projects\\\\text_summarizer\\\\notbooks'"
      ]
     },
     "execution_count": 1,
     "metadata": {},
     "output_type": "execute_result"
    }
   ],
   "source": [
    "import os\n",
    "%pwd"
   ]
  },
  {
   "cell_type": "code",
   "execution_count": 2,
   "metadata": {},
   "outputs": [
    {
     "data": {
      "text/plain": [
       "'f:\\\\ml_projects\\\\text_summarizer'"
      ]
     },
     "execution_count": 2,
     "metadata": {},
     "output_type": "execute_result"
    }
   ],
   "source": [
    "os.chdir('../')\n",
    "%pwd"
   ]
  },
  {
   "cell_type": "code",
   "execution_count": 3,
   "metadata": {},
   "outputs": [],
   "source": [
    "from dataclasses import dataclass\n",
    "from pathlib import Path\n",
    "\n",
    "@dataclass(frozen=True)\n",
    "class DataTransformationConfig:\n",
    "    root_dir:Path\n",
    "    tokenizer_name:str\n",
    "    data_path: Path"
   ]
  },
  {
   "cell_type": "code",
   "execution_count": 7,
   "metadata": {},
   "outputs": [],
   "source": [
    "from text_summarizer.constants import *\n",
    "from text_summarizer.utils.common import read_yaml,create_directories\n",
    "\n",
    "class ConfigurationManager:\n",
    "    def __init__(self,config_filepath = CONFIG_FILEPATH, params_filepath = PARAMS_FILEPATH):\n",
    "        self.config = read_yaml(config_filepath)\n",
    "        self.params = read_yaml(params_filepath)\n",
    "        create_directories([self.config.artifacts_root])\n",
    "\n",
    "    def get_data_transformation_config(self) -> DataTransformationConfig:\n",
    "        temp_config = self.config.data_transformation\n",
    "        create_directories([temp_config.root_dir])\n",
    "\n",
    "        data_transformation_config = DataTransformationConfig(\n",
    "            root_dir = temp_config.root_dir,\n",
    "            tokenizer_name = temp_config.tokenizer_name,\n",
    "            data_path = temp_config.data_path \n",
    "        )\n",
    "        return data_transformation_config"
   ]
  },
  {
   "cell_type": "code",
   "execution_count": 8,
   "metadata": {},
   "outputs": [],
   "source": [
    "import os,sys\n",
    "from text_summarizer.utils.logger import logger\n",
    "from text_summarizer.utils.exception import CustomException\n",
    "from transformers import AutoTokenizer\n",
    "from datasets import load_dataset, load_from_disk\n",
    "\n",
    "class DataTransformation():\n",
    "    def __init__(self,config : DataTransformationConfig):\n",
    "        self.config = config\n",
    "        self.tokenizer = AutoTokenizer.from_pretrained(config.tokenizer_name)\n",
    "\n",
    "    def convert_examples_to_features(self,examples_batch):\n",
    "        input_encoding = self.tokenizer(examples_batch['dialogue'], max_length = 1024, truncation = True)\n",
    "\n",
    "        with self.tokenizer.as_target_tokenizer():\n",
    "            target_encoding = self.tokenizer(examples_batch['summary'], max_length = 128, truncation = True)\n",
    "\n",
    "        return {\n",
    "            'input_ids': input_encoding['input_ids'],\n",
    "            'attention_mask': input_encoding['attention_mask'],\n",
    "            'labels': target_encoding['input_ids'],\n",
    "        }\n",
    "    \n",
    "    def convert(self):\n",
    "        try:\n",
    "            dataset_samsum = load_from_disk(self.config.data_path)\n",
    "            dataset_samsum_pt = dataset_samsum.map(self.convert_examples_to_features,batched = True)\n",
    "            dataset_samsum_pt.save_to_disk(os.path.join(self.config.root_dir,\"dataset_samsum\"))\n",
    "            logger.info(\"Sucessfully Transformed Example into Features\")\n",
    "        except Exception as e:\n",
    "            raise CustomException(e,sys)"
   ]
  },
  {
   "cell_type": "code",
   "execution_count": 9,
   "metadata": {},
   "outputs": [
    {
     "name": "stdout",
     "output_type": "stream",
     "text": [
      " [ 2024-01-09 12:42:38,990 ] - 25 - common - artifacts Directory Created Successfully\n",
      " [ 2024-01-09 12:42:38,993 ] - 25 - common - artifacts/data_transformation Directory Created Successfully\n"
     ]
    },
    {
     "name": "stderr",
     "output_type": "stream",
     "text": [
      "tokenizer_config.json: 100%|██████████| 88.0/88.0 [00:00<00:00, 17.6kB/s]\n",
      "f:\\ml_projects\\text_summarizer\\textsummarizer\\lib\\site-packages\\huggingface_hub\\file_download.py:149: UserWarning: `huggingface_hub` cache-system uses symlinks by default to efficiently store duplicated files but your machine does not support them in C:\\Users\\Lenovo\\.cache\\huggingface\\hub\\models--google--pegasus-cnn_dailymail. Caching files will still work but in a degraded version that might require more space on your disk. This warning can be disabled by setting the `HF_HUB_DISABLE_SYMLINKS_WARNING` environment variable. For more details, see https://huggingface.co/docs/huggingface_hub/how-to-cache#limitations.\n",
      "To support symlinks on Windows, you either need to activate Developer Mode or to run Python as an administrator. In order to see activate developer mode, see this article: https://docs.microsoft.com/en-us/windows/apps/get-started/enable-your-device-for-development\n",
      "  warnings.warn(message)\n",
      "config.json: 100%|██████████| 1.12k/1.12k [00:00<00:00, 102kB/s]\n",
      "spiece.model: 100%|██████████| 1.91M/1.91M [00:01<00:00, 1.69MB/s]\n",
      "special_tokens_map.json: 100%|██████████| 65.0/65.0 [00:00<00:00, 13.0kB/s]\n",
      "Map:   0%|          | 0/14732 [00:00<?, ? examples/s]f:\\ml_projects\\text_summarizer\\textsummarizer\\lib\\site-packages\\transformers\\tokenization_utils_base.py:3860: UserWarning: `as_target_tokenizer` is deprecated and will be removed in v5 of Transformers. You can tokenize your labels by using the argument `text_target` of the regular `__call__` method (either in the same call as your input texts if you use the same keyword arguments, or in a separate call.\n",
      "  warnings.warn(\n",
      "Map: 100%|██████████| 14732/14732 [00:10<00:00, 1402.13 examples/s]\n",
      "Map: 100%|██████████| 819/819 [00:00<00:00, 1494.51 examples/s]\n",
      "Map: 100%|██████████| 818/818 [00:00<00:00, 1445.22 examples/s]\n",
      "Saving the dataset (1/1 shards): 100%|██████████| 14732/14732 [00:00<00:00, 181877.41 examples/s]\n",
      "Saving the dataset (1/1 shards): 100%|██████████| 819/819 [00:00<00:00, 32764.87 examples/s]\n",
      "Saving the dataset (1/1 shards): 100%|██████████| 818/818 [00:00<00:00, 38946.36 examples/s]\n"
     ]
    }
   ],
   "source": [
    "import sys\n",
    "try:\n",
    "    config = ConfigurationManager()\n",
    "    data_transformation_config = config.get_data_transformation_config()\n",
    "    data_transformation = DataTransformation(data_transformation_config)\n",
    "    data_transformation.convert()\n",
    "except Exception as e:\n",
    "    raise CustomException(e,sys)"
   ]
  },
  {
   "cell_type": "code",
   "execution_count": null,
   "metadata": {},
   "outputs": [],
   "source": []
  }
 ],
 "metadata": {
  "kernelspec": {
   "display_name": "Python 3",
   "language": "python",
   "name": "python3"
  },
  "language_info": {
   "codemirror_mode": {
    "name": "ipython",
    "version": 3
   },
   "file_extension": ".py",
   "mimetype": "text/x-python",
   "name": "python",
   "nbconvert_exporter": "python",
   "pygments_lexer": "ipython3",
   "version": "3.8.18"
  }
 },
 "nbformat": 4,
 "nbformat_minor": 2
}
